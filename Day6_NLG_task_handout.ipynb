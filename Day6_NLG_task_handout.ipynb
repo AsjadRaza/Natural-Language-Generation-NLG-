{
  "nbformat": 4,
  "nbformat_minor": 0,
  "metadata": {
    "colab": {
      "name": "Day6_NLG_task_handout.ipynb",
      "provenance": [],
      "collapsed_sections": [],
      "machine_shape": "hm"
    },
    "kernelspec": {
      "display_name": "Python 3",
      "language": "python",
      "name": "python3"
    },
    "language_info": {
      "codemirror_mode": {
        "name": "ipython",
        "version": 3
      },
      "file_extension": ".py",
      "mimetype": "text/x-python",
      "name": "python",
      "nbconvert_exporter": "python",
      "pygments_lexer": "ipython3",
      "version": "3.7.7"
    },
    "toc": {
      "base_numbering": 1,
      "nav_menu": {},
      "number_sections": true,
      "sideBar": true,
      "skip_h1_title": false,
      "title_cell": "Table of Contents",
      "title_sidebar": "Contents",
      "toc_cell": false,
      "toc_position": {},
      "toc_section_display": true,
      "toc_window_display": true
    },
    "varInspector": {
      "cols": {
        "lenName": 16,
        "lenType": 16,
        "lenVar": 40
      },
      "kernels_config": {
        "python": {
          "delete_cmd_postfix": "",
          "delete_cmd_prefix": "del ",
          "library": "var_list.py",
          "varRefreshCmd": "print(var_dic_list())"
        },
        "r": {
          "delete_cmd_postfix": ") ",
          "delete_cmd_prefix": "rm(",
          "library": "var_list.r",
          "varRefreshCmd": "cat(var_dic_list()) "
        }
      },
      "types_to_exclude": [
        "module",
        "function",
        "builtin_function_or_method",
        "instance",
        "_Feature"
      ],
      "window_display": false
    },
    "accelerator": "GPU"
  },
  "cells": [
    {
      "cell_type": "markdown",
      "metadata": {
        "id": "rYZcjkVRxmXN"
      },
      "source": [
        "# Task: MLE and Policy Gradient trained sequence to sequence model in Texar\n",
        "\n",
        "We build two versions of a simple (but attention using) sequence-to-sequence model:\n",
        "\n",
        "- The first version will be trained only with an MLE objective,\n",
        "- The second will be trained both with MLE as a pretraining, and then Policy Gradient.\n",
        "\n",
        "The goal of the task is simply to get to know Texar a bit, nothing else -- the dataset is a toy dataset from Google which simply reverses the input, and without proper hyperparameter tuning (which we won't do) Policy Gradient quickly collapses, even after the MLE pretraining.\n",
        "\n",
        "Consequently, the task is simply to build the models and get the training running, there is no target performance which you'd have to achieve. In addition, almost all code that is needed can be found by looking at the Texar documentation..."
      ]
    },
    {
      "cell_type": "markdown",
      "metadata": {
        "id": "PuXRvWgdicfJ"
      },
      "source": [
        "# Texar prerequisites"
      ]
    },
    {
      "cell_type": "code",
      "metadata": {
        "colab": {
          "base_uri": "https://localhost:8080/"
        },
        "id": "UzsX_RkyftLG",
        "outputId": "39dc2c90-7de5-44c7-9982-0b67cb09448c"
      },
      "source": [
        "%tensorflow_version 1.x # Texar needs TF 1.x!!!\n",
        "#! pip install texar"
      ],
      "execution_count": 1,
      "outputs": [
        {
          "output_type": "stream",
          "text": [
            "`%tensorflow_version` only switches the major version: 1.x or 2.x.\n",
            "You set: `1.x # Texar needs TF 1.x!!!`. This will be interpreted as: `1.x`.\n",
            "\n",
            "\n",
            "TensorFlow 1.x selected.\n"
          ],
          "name": "stdout"
        }
      ]
    },
    {
      "cell_type": "code",
      "metadata": {
        "id": "q3uOKU7Kgxfi"
      },
      "source": [
        "import texar.tf as tx\n",
        "import tensorflow as tf\n",
        "import numpy as np"
      ],
      "execution_count": 2,
      "outputs": []
    },
    {
      "cell_type": "markdown",
      "metadata": {
        "id": "_J6Mn2JhQIFI"
      },
      "source": [
        "# Downloading the data\n",
        "We download and extract the toy dataset with Texar's download utility function:"
      ]
    },
    {
      "cell_type": "code",
      "metadata": {
        "colab": {
          "base_uri": "https://localhost:8080/"
        },
        "id": "fhhQOSmRjWIF",
        "outputId": "c35d6030-5709-4292-e54a-b1a88504a9ca"
      },
      "source": [
        "tx.data.maybe_download(\n",
        "            urls='https://drive.google.com/file/d/'\n",
        "                 '1fENE2rakm8vJ8d3voWBgW4hGlS6-KORW/view?usp=sharing',\n",
        "            path='./',\n",
        "            filenames='toy_copy.zip',\n",
        "            extract=True)"
      ],
      "execution_count": 3,
      "outputs": [
        {
          "output_type": "stream",
          "text": [
            "Successfully downloaded toy_copy.zip.\n"
          ],
          "name": "stdout"
        },
        {
          "output_type": "execute_result",
          "data": {
            "text/plain": [
              "['./toy_copy.zip']"
            ]
          },
          "metadata": {
            "tags": []
          },
          "execution_count": 3
        }
      ]
    },
    {
      "cell_type": "markdown",
      "metadata": {
        "id": "CSGSsLRU6E_t"
      },
      "source": [
        "After extraction this will already be in the format needed for Texar's data readers."
      ]
    },
    {
      "cell_type": "markdown",
      "metadata": {
        "id": "5_ufSlPcqfPn"
      },
      "source": [
        "# The basic model: RNN Seq2seq with attention trained with MLE"
      ]
    },
    {
      "cell_type": "markdown",
      "metadata": {
        "id": "hlFYiXU7m5XC"
      },
      "source": [
        "## Model parameters\n",
        "\n",
        "In Texar, hyperparameters are typically represented by multi-level dictionaries (or  dictionary-like texar.HParams intstances). Before building the model, we define a minimal set of hyperparameter dictionaries for the embedding, encoder, decoder and attention."
      ]
    },
    {
      "cell_type": "code",
      "metadata": {
        "id": "Z6pTkpWkUBse"
      },
      "source": [
        "# We want to use the same dimensionality (\"number of units\") for the embedding, and the encoder and decoder RNNs\n",
        "num_units = 256 # Please, specify a reasonable number\n",
        "\n",
        "# For inference, the model will use beam search\n",
        "beam_width = 10 # Specify a reasonable number (remember that the search time is not \n",
        "                 # linear with respect to this parameter!)\n",
        "\n",
        "embedder_hparams = {\"dim\": num_units}\n",
        "encoder_hparams = {\n",
        "    'rnn_cell_fw': {\n",
        "        'kwargs': {\n",
        "            'num_units': num_units\n",
        "        }\n",
        "    }\n",
        "}\n",
        "decoder_hparams = {\n",
        "    'rnn_cell': {\n",
        "        'kwargs': {\n",
        "            'num_units': num_units\n",
        "        },\n",
        "    },\n",
        "    'attention': {\n",
        "        'kwargs': {\n",
        "            'num_units': num_units,\n",
        "        },\n",
        "        'attention_layer_size': num_units\n",
        "    }\n",
        "}"
      ],
      "execution_count": 44,
      "outputs": []
    },
    {
      "cell_type": "markdown",
      "metadata": {
        "id": "33QyQ3ZoQXnR"
      },
      "source": [
        "## Building the model\n",
        "\n",
        "First we build a simple seq2seq model with attention."
      ]
    },
    {
      "cell_type": "code",
      "metadata": {
        "id": "YrA46wqeRRNK"
      },
      "source": [
        "def build_mle_model(batch, train_data):\n",
        "    \"\"\"Build a basic seq2seq model with attention for MLE training.\n",
        "    \"\"\"\n",
        "    \n",
        "    # Please define a word embedding layer for the Encoder using Texar's API.\n",
        "    # For hyperparameters, use the embedder hparams defined in the previous cell.\n",
        "    source_embedder = tx.modules.WordEmbedder(\n",
        "        vocab_size=train_data.source_vocab.size, hparams= embedder_hparams)\n",
        "    \n",
        "    # For encoder, use a Bidirectional RNN encoder from the Texar API.\n",
        "    # hparams were defined above.\n",
        "    encoder = tx.modules.BidirectionalRNNEncoder(\n",
        "        hparams=encoder_hparams)\n",
        "\n",
        "    enc_outputs, _ = encoder(source_embedder(batch['source_text_ids']))\n",
        "    \n",
        "    # Please define a word embedding layer for the Decoder using Texar's API.\n",
        "    # For hyperparameters, use the embedder hparams defined in the previous cell.\n",
        "    target_embedder = tx.modules.WordEmbedder(\n",
        "        vocab_size=train_data.target_vocab.size, hparams=embedder_hparams)\n",
        "\n",
        "    # The decoder should be a Texar Attention RNN decoder with the hyperparameters \n",
        "    # defined above\n",
        "    decoder =tx.modules.AttentionRNNDecoder(\n",
        "        memory=tf.concat(enc_outputs, axis=2),\n",
        "        memory_sequence_length=batch['source_length'],\n",
        "        vocab_size=train_data.target_vocab.size,\n",
        "        hparams=decoder_hparams)\n",
        "\n",
        "    # For MLE training, we use greedy decoding and teacher forcing, \n",
        "    # this is why the input is coming from the target text\n",
        "    mle_training_outputs, _, _ = decoder(\n",
        "        decoding_strategy='train_greedy', # Please specify greedy training decoding here \n",
        "                                          # see the possible values in the Texar \"Decoders\" documentation section\n",
        "        inputs=target_embedder(batch['target_text_ids'][:, :-1]),\n",
        "        sequence_length=batch['target_length'] - 1)\n",
        "\n",
        "    # The loss for MLE training is the familiar sparse softmax cross entropy\n",
        "    # Please use the Texar version of it here!\n",
        "    mle_loss = tx.losses.sequence_sparse_softmax_cross_entropy(\n",
        "        labels=batch['target_text_ids'][:, 1:],\n",
        "        logits=mle_training_outputs.logits,\n",
        "        sequence_length=batch['target_length'] - 1)\n",
        "\n",
        "    # Texar produces a train op from the loss for us:\n",
        "    mle_train_op = tx.core.get_train_op(mle_loss)\n",
        "\n",
        "    # For inference (text generation), we need the start (bos) tokens from the data set\n",
        "    # and we produce here a whole vector of them, for the entire batch.\n",
        "    start_tokens = tf.ones_like(batch['target_length']) * train_data.target_vocab.bos_token_id\n",
        "\n",
        "    # Inference (text generation) by beam search -- nothing to do here, just observe!\n",
        "    beam_search_outputs, _, _ = \\\n",
        "        tx.modules.beam_search_decode(\n",
        "            decoder_or_cell=decoder,\n",
        "            embedding=target_embedder,\n",
        "            start_tokens=start_tokens,\n",
        "            end_token=train_data.target_vocab.eos_token_id,\n",
        "            beam_width=beam_width,\n",
        "            max_decoding_length=60)\n",
        "\n",
        "    # Having built the model, we need to return two things that will be needed for the training\n",
        "    # and evaluation of the model: the mle training op  and the beam search output \n",
        "    # please add these in the next line (in this order)!!\n",
        "    return mle_train_op, beam_search_outputs"
      ],
      "execution_count": 45,
      "outputs": []
    },
    {
      "cell_type": "markdown",
      "metadata": {
        "id": "YopoVmiVqtl4"
      },
      "source": [
        "## Data sets and training parameters"
      ]
    },
    {
      "cell_type": "code",
      "metadata": {
        "id": "WzgvL-Dgm9X4"
      },
      "source": [
        "source_vocab_file = './data/toy_copy/train/vocab.sources.txt'\n",
        "target_vocab_file = './data/toy_copy/train/vocab.targets.txt'\n",
        "\n",
        "mle_training_num_epochs  = 4 # Please specify the number of training epochs\n",
        "steps_per_train_epochs = 312 # Don't touch this, this is the correct value for the toy dataset\n",
        "batch_size = 256 # Please specify a batch size\n",
        "\n",
        "display = 50\n",
        "\n",
        "# Texar hparams for the toy dataset\n",
        "\n",
        "train_hparams = {\n",
        "    'num_epochs': 500, # We set this to an unexhaustible number bec. of a Texar bug!!\n",
        "    'batch_size': batch_size,\n",
        "    'allow_smaller_final_batch': False,\n",
        "    'source_dataset': {\n",
        "        \"files\": './data/toy_copy/train/sources.txt',\n",
        "        'vocab_file': source_vocab_file\n",
        "    },\n",
        "    'target_dataset': {\n",
        "        'files': './data/toy_copy/train/targets.txt',\n",
        "        'vocab_file': target_vocab_file\n",
        "    }\n",
        "}\n",
        "val_hparams = {\n",
        "    'batch_size': batch_size,\n",
        "    'allow_smaller_final_batch': False,\n",
        "    'source_dataset': {\n",
        "        \"files\": './data/toy_copy/dev/sources.txt',\n",
        "        'vocab_file': source_vocab_file\n",
        "    },\n",
        "    'target_dataset': {\n",
        "        \"files\": './data/toy_copy/dev/targets.txt',\n",
        "        'vocab_file': target_vocab_file\n",
        "    }\n",
        "}\n",
        "test_hparams = {\n",
        "    'batch_size': batch_size,\n",
        "    'allow_smaller_final_batch': False,\n",
        "    'source_dataset': {\n",
        "        \"files\": './data/toy_copy/test/sources.txt',\n",
        "        'vocab_file': source_vocab_file\n",
        "    },\n",
        "    'target_dataset': {\n",
        "        \"files\": './data/toy_copy/test/targets.txt',\n",
        "        'vocab_file': target_vocab_file\n",
        "    }\n",
        "}\n",
        "\n"
      ],
      "execution_count": 46,
      "outputs": []
    },
    {
      "cell_type": "code",
      "metadata": {
        "colab": {
          "base_uri": "https://localhost:8080/"
        },
        "id": "G8k1wKtP4xX9",
        "outputId": "23c38eaa-6268-492c-bf66-70add7ca7048"
      },
      "source": [
        "# All of our data sets consist of paired texts -- please specify the correct\n",
        "# Texar data class in the next three lines:\n",
        "\n",
        "train_data = tx.data.PairedTextData(hparams=train_hparams)\n",
        "val_data = tx.data.PairedTextData(hparams=val_hparams)\n",
        "test_data = tx.data.PairedTextData(hparams=test_hparams)\n",
        "\n",
        "# Texar's data iterators are thin wrappers around the Tensorflow Dataset API\n",
        "# Please put Texar's data iterator here which can switch between train, test and validation data\n",
        "iterator = tx.data.TrainTestDataIterator(train=train_data, val=val_data, test=test_data)\n",
        "batch = iterator.get_next()\n",
        "train_op, infer_outputs = build_mle_model(batch, train_data) # build the model, get train and inference outputs"
      ],
      "execution_count": 47,
      "outputs": [
        {
          "output_type": "stream",
          "text": [
            "WARNING: Entity <function PairedTextData._process_dataset.<locals>.<lambda> at 0x7ff2fb4a3400> could not be transformed and will be executed as-is. Please report this to the AutoGraph team. When filing the bug, set the verbosity to 10 (on Linux, `export AUTOGRAPH_VERBOSITY=10`) and attach the full output. Cause: module 'gast' has no attribute 'Str'\n",
            "WARNING: Entity <function PairedTextData._process_dataset.<locals>.<lambda> at 0x7ff3243fd950> could not be transformed and will be executed as-is. Please report this to the AutoGraph team. When filing the bug, set the verbosity to 10 (on Linux, `export AUTOGRAPH_VERBOSITY=10`) and attach the full output. Cause: module 'gast' has no attribute 'Str'\n",
            "WARNING: Entity <function PairedTextData._process_dataset.<locals>.<lambda> at 0x7ff2fb431950> could not be transformed and will be executed as-is. Please report this to the AutoGraph team. When filing the bug, set the verbosity to 10 (on Linux, `export AUTOGRAPH_VERBOSITY=10`) and attach the full output. Cause: module 'gast' has no attribute 'Str'\n"
          ],
          "name": "stdout"
        }
      ]
    },
    {
      "cell_type": "markdown",
      "metadata": {
        "id": "1kGOUcw5sJlu"
      },
      "source": [
        "## MLE training"
      ]
    },
    {
      "cell_type": "code",
      "metadata": {
        "colab": {
          "base_uri": "https://localhost:8080/"
        },
        "id": "9M2cVhBYpOZb",
        "outputId": "fd2d2ef9-a16a-440c-9bd6-23f6b1f95b7a"
      },
      "source": [
        "# Now we manually write the training loops...\n",
        "# not as cosy as Keras, for sure..\n",
        "# Nothing to do in this cell, just observe\n",
        "\n",
        "def mle_train_epoch(sess, iterator, train_op):\n",
        "    \"\"\"Train the Seq2Seq model for an epoch.\n",
        "    sess is a TF session to use, \n",
        "    iterator is a TrainTestDataIterator with the data,\n",
        "    train_op is training op in the model's graph.\n",
        "    \"\"\"\n",
        "    iterator.switch_to_train_data(sess)\n",
        "    for step in range(steps_per_train_epochs):\n",
        "        try:\n",
        "            loss = sess.run(train_op) # Run graph until the train op\n",
        "            if step % display == 0:\n",
        "                print(\"step={}, loss={:.4f}\".format(step, loss))\n",
        "        except tf.errors.OutOfRangeError:\n",
        "            break\n",
        "\n",
        "\n",
        "def eval_epoch(sess, mode, iterator, batch):\n",
        "    \"\"\" Evaluate an epoch. Mode is 'test' or 'val'.\n",
        "    \"\"\"\n",
        "    if mode == 'val':\n",
        "        iterator.switch_to_val_data(sess)\n",
        "    else:\n",
        "        iterator.switch_to_test_data(sess)\n",
        "\n",
        "    refs, hypos = [], []\n",
        "    while True:\n",
        "        try:\n",
        "            # fetches are what we want to get back from the session\n",
        "            # in this case the target texts and the predicted texts\n",
        "            fetches = [\n",
        "                batch['target_text'][:, 1:],\n",
        "                infer_outputs.predicted_ids[:, :, 0]\n",
        "            ]\n",
        "            feed_dict = {\n",
        "                tx.global_mode(): tf.estimator.ModeKeys.PREDICT,\n",
        "            }\n",
        "            target_texts, output_ids = \\\n",
        "                sess.run(fetches, feed_dict=feed_dict)\n",
        "\n",
        "            target_texts = tx.utils.strip_special_tokens(target_texts)\n",
        "            output_texts = tx.utils.map_ids_to_strs(\n",
        "                ids=output_ids, vocab=val_data.target_vocab)\n",
        "\n",
        "            for hypo, ref in zip(output_texts, target_texts):\n",
        "                hypos.append(hypo)\n",
        "                refs.append([ref])\n",
        "        except tf.errors.OutOfRangeError:\n",
        "            break\n",
        "    # For evaluation we want to use a BLEU variant:\n",
        "    # please put here Texar's \"moses\" corpus BLEU variant.\n",
        "    return tx.evals.corpus_bleu_moses(list_of_references=refs, hypotheses=hypos)\n",
        "\n",
        "\n",
        "def mle_train_and_eval(sess, iterator, batch, train_op):\n",
        "    \"\"\"Train the model with MLE and eval.\n",
        "    \"\"\"\n",
        "    best_val_bleu = -1.\n",
        "    for i in range(mle_training_num_epochs):\n",
        "        mle_train_epoch(sess, iterator, train_op)\n",
        "\n",
        "        val_bleu = eval_epoch(sess, 'val', iterator, batch)\n",
        "        best_val_bleu = max(best_val_bleu, val_bleu)\n",
        "        print('val epoch={}, BLEU={:.4f}; best-ever={:.4f}'.format(\n",
        "            i, val_bleu, best_val_bleu))\n",
        "\n",
        "        test_bleu = eval_epoch(sess, 'test', iterator, batch)\n",
        "        print('test epoch={}, BLEU={:.4f}'.format(i, test_bleu))\n",
        "\n",
        "        print('=' * 50)\n",
        "\n",
        "\n",
        "# The only thing left is to run the training and evaluation:\n",
        "with tf.Session() as sess:\n",
        "    sess.run(tf.global_variables_initializer())\n",
        "    sess.run(tf.local_variables_initializer())\n",
        "    sess.run(tf.tables_initializer())\n",
        "    mle_train_and_eval(sess, iterator, batch, train_op)\n",
        "   "
      ],
      "execution_count": 48,
      "outputs": [
        {
          "output_type": "stream",
          "text": [
            "step=0, loss=34.5348\n",
            "step=50, loss=19.6923\n",
            "step=100, loss=20.9703\n",
            "step=150, loss=0.5662\n",
            "step=200, loss=0.0680\n",
            "step=250, loss=0.0383\n",
            "step=300, loss=0.0210\n",
            "val epoch=0, BLEU=99.9500; best-ever=99.9500\n",
            "test epoch=0, BLEU=99.9300\n",
            "==================================================\n",
            "step=0, loss=0.0186\n",
            "step=50, loss=0.0141\n",
            "step=100, loss=0.0103\n",
            "step=150, loss=0.0079\n",
            "step=200, loss=0.0064\n",
            "step=250, loss=0.0052\n",
            "step=300, loss=0.0047\n",
            "val epoch=1, BLEU=99.8800; best-ever=99.9500\n",
            "test epoch=1, BLEU=99.9300\n",
            "==================================================\n",
            "step=0, loss=0.0044\n",
            "step=50, loss=0.0039\n",
            "step=100, loss=0.0035\n",
            "step=150, loss=0.0030\n",
            "step=200, loss=0.0024\n",
            "step=250, loss=0.0023\n",
            "step=300, loss=0.0020\n",
            "val epoch=2, BLEU=99.9400; best-ever=99.9500\n",
            "test epoch=2, BLEU=99.9800\n",
            "==================================================\n",
            "step=0, loss=0.0020\n",
            "step=50, loss=0.0017\n",
            "step=100, loss=0.0017\n",
            "step=150, loss=0.0015\n",
            "step=200, loss=0.0013\n",
            "step=250, loss=0.0013\n",
            "step=300, loss=0.0012\n",
            "val epoch=3, BLEU=99.9000; best-ever=99.9500\n",
            "test epoch=3, BLEU=99.9800\n",
            "==================================================\n"
          ],
          "name": "stdout"
        }
      ]
    },
    {
      "cell_type": "markdown",
      "metadata": {
        "id": "cdi8ep_6J88v"
      },
      "source": [
        "# Attention Seq2Seq with Policy gradient"
      ]
    },
    {
      "cell_type": "markdown",
      "metadata": {
        "id": "hdvW_Y9oxb-l"
      },
      "source": [
        "## Building the model"
      ]
    },
    {
      "cell_type": "code",
      "metadata": {
        "id": "6pQD8DO2Vju1"
      },
      "source": [
        "def build_rl_model(batch, train_data):\n",
        "    \"\"\"Build a seq2seq model trained with Policy Gradient.\n",
        "    \"\"\"\n",
        "    \n",
        "    # Our RL-trained model will be almost totally the same as the previous one,\n",
        "    # except that we add sampled outputs for Policy Gradient.\n",
        "    # So, please repeat here the missing elements of the previous model. (Copy & paste...)\n",
        "    \n",
        "    # Please define a word embedding layer for the Encoder using Texar's API.\n",
        "    # For hyperparameters, use the embedder hparams defined in the previous cell.\n",
        "    source_embedder = tx.modules.WordEmbedder(\n",
        "        vocab_size=train_data.source_vocab.size, hparams= embedder_hparams)\n",
        "    \n",
        "    # For encoder, use a Bidirectional RNN encoder from the Texar API.\n",
        "    # hparams were defined above.\n",
        "    encoder = tx.modules.BidirectionalRNNEncoder(\n",
        "        hparams=encoder_hparams)\n",
        "\n",
        "    enc_outputs, _ = encoder(source_embedder(batch['source_text_ids']))\n",
        "    \n",
        "    # Please define a word embedding layer for the Decoder using Texar's API.\n",
        "    # For hyperparameters, use the embedder hparams defined in the previous cell.\n",
        "    target_embedder = tx.modules.WordEmbedder(\n",
        "        vocab_size=train_data.target_vocab.size, hparams=embedder_hparams)\n",
        "\n",
        "    decoder = tx.modules.AttentionRNNDecoder(\n",
        "        memory=tf.concat(enc_outputs, axis=2),\n",
        "        memory_sequence_length=batch['source_length'],\n",
        "        vocab_size=train_data.target_vocab.size,\n",
        "        hparams=decoder_hparams)\n",
        "\n",
        "    # MLE pretraining\n",
        "\n",
        "    mle_training_outputs, _, _ = decoder(\n",
        "        decoding_strategy='train_greedy',\n",
        "        inputs=target_embedder(batch['target_text_ids'][:, :-1]),\n",
        "        sequence_length=batch['target_length'] - 1)\n",
        "    \n",
        "    mle_loss = tx.losses.sequence_sparse_softmax_cross_entropy(\n",
        "        labels=batch['target_text_ids'][:, 1:],\n",
        "        logits=mle_training_outputs.logits,\n",
        "        sequence_length=batch['target_length'] - 1)\n",
        "\n",
        "    mle_train_op = tx.core.get_train_op(mle_loss)\n",
        "\n",
        "    start_tokens = tf.ones_like(batch['target_length']) * train_data.target_vocab.bos_token_id\n",
        "\n",
        "    beam_search_outputs, _, _ = \\\n",
        "        tx.modules.beam_search_decode(\n",
        "            decoder_or_cell=decoder,\n",
        "            embedding=target_embedder,\n",
        "            start_tokens=start_tokens,\n",
        "            end_token=train_data.target_vocab.eos_token_id,\n",
        "            beam_width=beam_width,\n",
        "            max_decoding_length=60)    \n",
        "    \n",
        "    # Here comes the novelty...\n",
        "    # We need random sampling for Policy Gradient\n",
        "    sampled_outputs, _, sequence_length = decoder(\n",
        "        decoding_strategy= 'infer_sample', # Please add here the correct 'decoding strategy' for random sampling\n",
        "        start_tokens=start_tokens,\n",
        "        end_token=train_data.target_vocab.eos_token_id,\n",
        "        embedding=target_embedder,\n",
        "        max_decoding_length=30)\n",
        "\n",
        "    # We need to return a bit more things from the graph for Policy Gradient\n",
        "    return sampled_outputs, mle_train_op, sequence_length, beam_search_outputs"
      ],
      "execution_count": 39,
      "outputs": []
    },
    {
      "cell_type": "markdown",
      "metadata": {
        "id": "riMzhKObyC-j"
      },
      "source": [
        "## Data sets and iterator"
      ]
    },
    {
      "cell_type": "code",
      "metadata": {
        "colab": {
          "base_uri": "https://localhost:8080/"
        },
        "id": "52KC7jzajrQs",
        "outputId": "8764c709-302c-439a-bba8-9312b09d287b"
      },
      "source": [
        "tf.reset_default_graph()\n",
        "\n",
        "# Please repeat here the previous definitions for our data sets and iterator!\n",
        "\n",
        "train_data = tx.data.PairedTextData(hparams=train_hparams)\n",
        "val_data = tx.data.PairedTextData(hparams=val_hparams)\n",
        "test_data = tx.data.PairedTextData(hparams=test_hparams)\n",
        "\n",
        "# Texar's data iterators are thin wrappers around the Tensorflow Dataset API\n",
        "# Please put Texar's data iterator here which can switch between train, test and validation data\n",
        "iterator = tx.data.TrainTestDataIterator(train=train_data, val=val_data, test=test_data)\n",
        "batch = iterator.get_next()\n",
        "\n",
        "\n",
        "# We build the model:\n",
        "sampled_outputs, mle_train_op, sequence_length, infer_outputs = build_rl_model(batch, train_data)\n"
      ],
      "execution_count": 40,
      "outputs": [
        {
          "output_type": "stream",
          "text": [
            "WARNING: Entity <function PairedTextData._process_dataset.<locals>.<lambda> at 0x7ff2fb438158> could not be transformed and will be executed as-is. Please report this to the AutoGraph team. When filing the bug, set the verbosity to 10 (on Linux, `export AUTOGRAPH_VERBOSITY=10`) and attach the full output. Cause: module 'gast' has no attribute 'Str'\n",
            "WARNING: Entity <function PairedTextData._process_dataset.<locals>.<lambda> at 0x7ff37feb0ea0> could not be transformed and will be executed as-is. Please report this to the AutoGraph team. When filing the bug, set the verbosity to 10 (on Linux, `export AUTOGRAPH_VERBOSITY=10`) and attach the full output. Cause: module 'gast' has no attribute 'Str'\n",
            "WARNING: Entity <function PairedTextData._process_dataset.<locals>.<lambda> at 0x7ff2fb224bf8> could not be transformed and will be executed as-is. Please report this to the AutoGraph team. When filing the bug, set the verbosity to 10 (on Linux, `export AUTOGRAPH_VERBOSITY=10`) and attach the full output. Cause: module 'gast' has no attribute 'Str'\n"
          ],
          "name": "stdout"
        }
      ]
    },
    {
      "cell_type": "markdown",
      "metadata": {
        "id": "hoezIYR9hFHo"
      },
      "source": [
        "## Agent definition"
      ]
    },
    {
      "cell_type": "code",
      "metadata": {
        "id": "PPWbxLrvhEPT"
      },
      "source": [
        "# Now a crucial point: we need te create a Texar Sequence Policy Gradient Agent\n",
        "# Please specify the correct Texar class!\n",
        "agent = tx.agents.SeqPGAgent(\n",
        "    samples=sampled_outputs.sample_id,\n",
        "    logits=sampled_outputs.logits,\n",
        "    sequence_length=sequence_length,\n",
        "    hparams={'discount_factor': 0.95, 'entropy_weight': 0.5})"
      ],
      "execution_count": 41,
      "outputs": []
    },
    {
      "cell_type": "markdown",
      "metadata": {
        "id": "1iL-E0xg0baR"
      },
      "source": [
        "## Policy gradient training"
      ]
    },
    {
      "cell_type": "code",
      "metadata": {
        "id": "P9uDJwtFaKg5"
      },
      "source": [
        "# PG training and evaluation function\n",
        "def pg_train_and_eval_epoch(sess, agent, iterator, batch):\n",
        "    best_val_bleu = -1.\n",
        "    for step in range(steps_per_train_epochs):\n",
        "        iterator.switch_to_train_data(sess)\n",
        "\n",
        "        \n",
        "        extra_fetches = {\n",
        "            'truth': batch['target_text_ids'],\n",
        "        }\n",
        "\n",
        "        # The agent needs to get the samples with the current policy.\n",
        "        # Please add the the correct agent method in the next line!!\n",
        "        # to be clear: you will need something like \n",
        "        # fetches = agent.<METHOD_NAME>(extra_fetches=extra_fetches) \n",
        "        # here.\n",
        "        fetches = agent.get_samples(extra_fetches=extra_fetches)\n",
        "\n",
        "        sample_text = tx.utils.map_ids_to_strs(\n",
        "            fetches['samples'], train_data.target_vocab,\n",
        "            strip_eos=False, join=False)\n",
        "        truth_text = tx.utils.map_ids_to_strs(\n",
        "            fetches['truth'], train_data.target_vocab,\n",
        "            strip_eos=False, join=False)    \n",
        "\n",
        "        # Compute the rewards\n",
        "        reward = []\n",
        "        for ref, hyp in zip(truth_text, sample_text):\n",
        "            r = tx.evals.sentence_bleu([ref], hyp, smooth=True)\n",
        "            reward.append(r)\n",
        "\n",
        "        # Now we need to do the actual weight updates with the policy gradient,\n",
        "        # in the Texar API this is called \"observing\".\n",
        "        # Please add, again, the correct method name in the next line!\n",
        "        loss = agent.observe(reward=reward)\n",
        "\n",
        "        # Displays & evaluates\n",
        "        if step == 1 or step % display == 0:\n",
        "            print(\"step={}, loss={:.4f}, reward={:.4f}\".format(\n",
        "                step, loss, np.mean(reward)))\n",
        "\n",
        "        if step % display == 0:\n",
        "            val_bleu = eval_epoch(sess, 'val', iterator, batch)\n",
        "            best_val_bleu = max(best_val_bleu, val_bleu)\n",
        "            print('val step={}, BLEU={:.4f}; best-ever={:.4f}'.format(\n",
        "                step, val_bleu, best_val_bleu))\n",
        "\n",
        "            test_bleu = eval_epoch(sess, 'test', iterator, batch)\n",
        "            print('test step={}, BLEU={:.4f}'.format(step, test_bleu))\n",
        "            print('=' * 50)\n",
        "\n"
      ],
      "execution_count": 42,
      "outputs": []
    },
    {
      "cell_type": "markdown",
      "metadata": {
        "id": "7c3twV451aAH"
      },
      "source": [
        "## Running it"
      ]
    },
    {
      "cell_type": "code",
      "metadata": {
        "colab": {
          "base_uri": "https://localhost:8080/"
        },
        "id": "v6aQAZQl1LUl",
        "outputId": "304da34a-ab6f-428c-fd65-f1d948bc0c19"
      },
      "source": [
        "mle_training_num_epochs = 4 # Specify the number of MLE training epochs!\n",
        "pg_train_num_epochs = 4 # Specify the number of PG training epochs!\n",
        "\n",
        "# Now we can run the training and see how the (untuned) Policy Gradient training quickly ruins \n",
        "# the MLE results...\n",
        "with tf.Session() as sess:\n",
        "    sess.run(tf.global_variables_initializer())\n",
        "    sess.run(tf.local_variables_initializer())\n",
        "    sess.run(tf.tables_initializer())\n",
        "\n",
        "    print(\"== Starting MLE pretraining ==\")\n",
        "\n",
        "    mle_train_and_eval(sess, iterator, batch, mle_train_op)\n",
        "\n",
        "    print(\"== Starting PG training ==\")\n",
        "\n",
        "    agent.sess = sess\n",
        "\n",
        "    for epoch in range(pg_train_num_epochs):\n",
        "        print('=' * 50)\n",
        "        print('== EPOCH NO', epoch, '==')\n",
        "        print('=' * 50)\n",
        "        pg_train_and_eval_epoch(sess, agent, iterator, batch)\n",
        "        "
      ],
      "execution_count": 43,
      "outputs": [
        {
          "output_type": "stream",
          "text": [
            "== Starting MLE pretraining ==\n",
            "step=0, loss=35.4411\n",
            "step=50, loss=21.1429\n",
            "step=100, loss=1.3863\n",
            "step=150, loss=1.6106\n",
            "step=200, loss=0.1013\n",
            "step=250, loss=0.0428\n",
            "step=300, loss=0.0294\n",
            "val epoch=0, BLEU=100.0000; best-ever=100.0000\n",
            "test epoch=0, BLEU=99.8900\n",
            "==================================================\n",
            "step=0, loss=0.0222\n",
            "step=50, loss=0.0156\n",
            "step=100, loss=0.0110\n",
            "step=150, loss=0.0089\n",
            "step=200, loss=0.0077\n",
            "step=250, loss=0.0055\n",
            "step=300, loss=0.0051\n",
            "val epoch=1, BLEU=100.0000; best-ever=100.0000\n",
            "test epoch=1, BLEU=99.9200\n",
            "==================================================\n",
            "step=0, loss=0.0049\n",
            "step=50, loss=0.0039\n",
            "step=100, loss=0.0035\n",
            "step=150, loss=0.0031\n",
            "step=200, loss=0.0029\n",
            "step=250, loss=0.0024\n",
            "step=300, loss=0.0023\n",
            "val epoch=2, BLEU=100.0000; best-ever=100.0000\n",
            "test epoch=2, BLEU=99.9800\n",
            "==================================================\n",
            "step=0, loss=0.0022\n",
            "step=50, loss=0.0018\n",
            "step=100, loss=0.0018\n",
            "step=150, loss=0.0016\n",
            "step=200, loss=0.0015\n",
            "step=250, loss=0.0012\n",
            "step=300, loss=0.0012\n",
            "val epoch=3, BLEU=100.0000; best-ever=100.0000\n",
            "test epoch=3, BLEU=99.9200\n",
            "==================================================\n",
            "== Starting PG training ==\n",
            "==================================================\n",
            "== EPOCH NO 0 ==\n",
            "==================================================\n",
            "step=0, loss=0.0672, reward=67.9912\n",
            "val step=0, BLEU=26.1700; best-ever=26.1700\n",
            "test step=0, BLEU=25.9100\n",
            "==================================================\n",
            "step=1, loss=15.6476, reward=28.8690\n",
            "step=50, loss=43.2646, reward=15.3101\n",
            "val step=50, BLEU=6.9000; best-ever=26.1700\n",
            "test step=50, BLEU=7.2100\n",
            "==================================================\n",
            "step=100, loss=50.7841, reward=18.6463\n",
            "val step=100, BLEU=5.1900; best-ever=26.1700\n",
            "test step=100, BLEU=5.5100\n",
            "==================================================\n",
            "step=150, loss=20.4372, reward=20.2847\n",
            "val step=150, BLEU=0.0000; best-ever=26.1700\n",
            "test step=150, BLEU=0.0000\n",
            "==================================================\n",
            "step=200, loss=0.0152, reward=2.7120\n",
            "val step=200, BLEU=0.0000; best-ever=26.1700\n",
            "test step=200, BLEU=0.0000\n",
            "==================================================\n",
            "step=250, loss=-0.0138, reward=0.0841\n",
            "val step=250, BLEU=0.0000; best-ever=26.1700\n",
            "test step=250, BLEU=0.0000\n",
            "==================================================\n",
            "step=300, loss=2.1121, reward=21.4309\n",
            "val step=300, BLEU=0.0000; best-ever=26.1700\n",
            "test step=300, BLEU=0.0000\n",
            "==================================================\n",
            "==================================================\n",
            "== EPOCH NO 1 ==\n",
            "==================================================\n",
            "step=0, loss=1.3854, reward=20.7899\n",
            "val step=0, BLEU=0.0000; best-ever=0.0000\n",
            "test step=0, BLEU=0.0000\n",
            "==================================================\n",
            "step=1, loss=0.9211, reward=20.6301\n",
            "step=50, loss=-0.0176, reward=0.1111\n",
            "val step=50, BLEU=0.0000; best-ever=0.0000\n",
            "test step=50, BLEU=0.0000\n",
            "==================================================\n",
            "step=100, loss=1.2403, reward=21.1159\n",
            "val step=100, BLEU=0.0000; best-ever=0.0000\n",
            "test step=100, BLEU=0.0000\n",
            "==================================================\n",
            "step=150, loss=1.7414, reward=19.5782\n",
            "val step=150, BLEU=0.0000; best-ever=0.0000\n",
            "test step=150, BLEU=0.0000\n",
            "==================================================\n",
            "step=200, loss=0.6107, reward=19.4919\n",
            "val step=200, BLEU=0.0000; best-ever=0.0000\n",
            "test step=200, BLEU=0.0000\n",
            "==================================================\n",
            "step=250, loss=1.5205, reward=20.5810\n",
            "val step=250, BLEU=0.0000; best-ever=0.0000\n",
            "test step=250, BLEU=0.0000\n",
            "==================================================\n",
            "step=300, loss=1.0851, reward=18.8576\n",
            "val step=300, BLEU=0.0000; best-ever=0.0000\n",
            "test step=300, BLEU=0.0000\n",
            "==================================================\n",
            "==================================================\n",
            "== EPOCH NO 2 ==\n",
            "==================================================\n",
            "step=0, loss=1.7664, reward=18.6875\n",
            "val step=0, BLEU=0.0000; best-ever=0.0000\n",
            "test step=0, BLEU=0.0000\n",
            "==================================================\n",
            "step=1, loss=0.6935, reward=19.2178\n",
            "step=50, loss=0.8522, reward=18.0213\n",
            "val step=50, BLEU=0.0000; best-ever=0.0000\n",
            "test step=50, BLEU=0.0000\n",
            "==================================================\n",
            "step=100, loss=1.0014, reward=19.2266\n",
            "val step=100, BLEU=0.0000; best-ever=0.0000\n",
            "test step=100, BLEU=0.0000\n",
            "==================================================\n",
            "step=150, loss=1.0627, reward=19.8919\n",
            "val step=150, BLEU=0.0000; best-ever=0.0000\n",
            "test step=150, BLEU=0.0000\n",
            "==================================================\n",
            "step=200, loss=0.7423, reward=19.3220\n",
            "val step=200, BLEU=0.0000; best-ever=0.0000\n",
            "test step=200, BLEU=0.0000\n",
            "==================================================\n",
            "step=250, loss=0.7905, reward=20.3098\n",
            "val step=250, BLEU=0.0000; best-ever=0.0000\n",
            "test step=250, BLEU=0.0000\n",
            "==================================================\n",
            "step=300, loss=0.4443, reward=18.5126\n",
            "val step=300, BLEU=0.0000; best-ever=0.0000\n",
            "test step=300, BLEU=0.0000\n",
            "==================================================\n",
            "==================================================\n",
            "== EPOCH NO 3 ==\n",
            "==================================================\n",
            "step=0, loss=1.6989, reward=18.8698\n",
            "val step=0, BLEU=0.0000; best-ever=0.0000\n",
            "test step=0, BLEU=0.0000\n",
            "==================================================\n",
            "step=1, loss=1.9308, reward=18.2612\n",
            "step=50, loss=1.0440, reward=18.5382\n",
            "val step=50, BLEU=0.0000; best-ever=0.0000\n",
            "test step=50, BLEU=0.0000\n",
            "==================================================\n",
            "step=100, loss=0.2654, reward=18.2034\n",
            "val step=100, BLEU=0.0000; best-ever=0.0000\n",
            "test step=100, BLEU=0.0000\n",
            "==================================================\n",
            "step=150, loss=2.8245, reward=20.3905\n",
            "val step=150, BLEU=0.0000; best-ever=0.0000\n",
            "test step=150, BLEU=0.0000\n",
            "==================================================\n",
            "step=200, loss=0.1287, reward=17.3334\n",
            "val step=200, BLEU=0.0000; best-ever=0.0000\n",
            "test step=200, BLEU=0.0000\n",
            "==================================================\n",
            "step=250, loss=0.6403, reward=18.8127\n",
            "val step=250, BLEU=0.0000; best-ever=0.0000\n",
            "test step=250, BLEU=0.0000\n",
            "==================================================\n",
            "step=300, loss=0.1730, reward=16.1343\n",
            "val step=300, BLEU=0.0000; best-ever=0.0000\n",
            "test step=300, BLEU=0.0000\n",
            "==================================================\n"
          ],
          "name": "stdout"
        }
      ]
    },
    {
      "cell_type": "code",
      "metadata": {
        "id": "mRE4hx_LhzE-"
      },
      "source": [
        ""
      ],
      "execution_count": null,
      "outputs": []
    }
  ]
}